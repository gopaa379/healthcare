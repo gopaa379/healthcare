{
 "cells": [
  {
   "cell_type": "markdown",
   "metadata": {},
   "source": [
    "This notebook searches Chronic Conditions in patient notes."
   ]
  },
  {
   "cell_type": "code",
   "execution_count": null,
   "metadata": {},
   "outputs": [],
   "source": [
    "import pandas as pd\n",
    "import csv\n",
    "\n",
    "df = pd.read_csv('./patient_note_log.csv',  parse_dates=True, engine='python', error_bad_lines=False)\n",
    "\n",
    "df.shape"
   ]
  },
  {
   "cell_type": "code",
   "execution_count": 2,
   "metadata": {},
   "outputs": [],
   "source": [
    "# !aws s3 cp s3://patient-data-v1/patient_note_log.csv ./patient_note_log.csv\n",
    "# !aws s3 cp s3://patient-data-v1/Chronic_condns.csv ./chronic_condns.csv"
   ]
  },
  {
   "cell_type": "code",
   "execution_count": null,
   "metadata": {},
   "outputs": [],
   "source": [
    "!pip install -U spacy"
   ]
  },
  {
   "cell_type": "code",
   "execution_count": null,
   "metadata": {},
   "outputs": [],
   "source": [
    "!python -m spacy download en_core_web_sm"
   ]
  },
  {
   "cell_type": "code",
   "execution_count": 5,
   "metadata": {},
   "outputs": [
    {
     "name": "stdout",
     "output_type": "stream",
     "text": [
      "['Acquired Hypothyroidism', 'Acute Myocardial Infarction', 'Alzheimers Disease', 'Alzheimers Disease, Related Disorders, or Senile Dementia', 'Anemia', 'Asthma', 'Atrial Fibrillation', 'Benign Prostatic Hyperplasia', 'Cancer, Colorectal', 'Cancer, Endometrial', 'Cancer, Breast', 'Cancer, Lung', 'Cancer, Prostate', 'Severe Vision Reduction', 'Chronic Kidney Disease', 'Chronic Obstructive Pulmonary Disease', 'Depression', 'Diabetes', 'Glaucoma', 'Heart Failure', 'Hip or Pelvic Fracture', 'Lipid Metabolism Disorder', 'Hypertension', 'Ischemic Heart Disease', 'Osteoporosis', 'Rheumatoid Arthritis or Osteoarthritis', 'Stroke or Transient Ischemic Attack', 'ADHD, Conduct Disorders, and Hyperkinetic Syndrome', 'Alcohol Use Disorders', 'Anxiety Disorders', 'Autism Spectrum Disorders', 'Bipolar Disorder', 'Cerebral Palsy', 'Cystic Fibrosis and Other Metabolic Developmental Disorders', 'Depressive Disorders', 'Drug Use Disorders', 'Epilepsy', 'Fibromyalgia, Chronic Pain and Fatigue', 'HIV or AIDS', 'Intellectual Disabilities and Related Conditions', 'Learning Disabilities', 'Leukemias and Lymphomas', 'Liver Disease, Cirrhosis and Other Liver Conditions', 'Migraine and Chronic Headache', 'Mobility Impairments', 'Multiple Sclerosis and Transverse Myelitis', 'Muscular Dystrophy', 'Obesity', 'Other Developmental Delays', 'Peripheral Vascular Disease (PVD)', 'Personality Disorders', 'Post-Traumatic Stress Disorder (PTSD)', 'Pressure and Chronic Ulcers', 'Schizophrenia', 'Schizophrenia and Other Psychotic Disorders', 'Sensory - Blindness and Visual Impairment', 'Sensory - Deafness and Hearing Impairment', 'Spina Bifida and Other Congenital Anomalies of the Nervous System', 'Spinal Cord Injury', 'Tobacco Use', 'Traumatic Brain Injury and Nonpsychotic Mental Disorders due to Brain Damage', 'Viral Hepatitis (General)', 'Eating Disorder', 'Oral Health', 'Skin Disease', 'Paralysis', 'Stomach or Intestinal', 'Blood Disorder', 'Nerve Disorder', 'Respiratory Disorder', 'Vascular Disease', 'Vision', 'Hyperuricemia Gout', 'Chronic Low Back pain', 'Gynecological problem', 'Intestinal Diverticulosis', 'Cardiac Valve Disorder']\n"
     ]
    }
   ],
   "source": [
    "import spacy\n",
    "from spacy.matcher import PhraseMatcher\n",
    "import pandas as pd\n",
    "nlp = spacy.load('en_core_web_sm')\n",
    "\n",
    "# Create Phrase Matcher Object\n",
    "phrase_matcher = PhraseMatcher(nlp.vocab)\n",
    "\n",
    "# Get Chronic Conditions master data\n",
    "chrcond_lst = pd.read_csv('./chronic_condns.csv')['category'].tolist()\n",
    "print(chrcond_lst)\n",
    "\n",
    "chrcond_patterns = [nlp(cond) for cond in chrcond_lst]\n",
    "\n",
    "phrase_matcher.add('ChronicCond', None, *chrcond_patterns)"
   ]
  },
  {
   "cell_type": "code",
   "execution_count": 8,
   "metadata": {},
   "outputs": [
    {
     "data": {
      "text/html": [
       "<div>\n",
       "<style scoped>\n",
       "    .dataframe tbody tr th:only-of-type {\n",
       "        vertical-align: middle;\n",
       "    }\n",
       "\n",
       "    .dataframe tbody tr th {\n",
       "        vertical-align: top;\n",
       "    }\n",
       "\n",
       "    .dataframe thead th {\n",
       "        text-align: right;\n",
       "    }\n",
       "</style>\n",
       "<table border=\"1\" class=\"dataframe\">\n",
       "  <thead>\n",
       "    <tr style=\"text-align: right;\">\n",
       "      <th></th>\n",
       "      <th>id</th>\n",
       "      <th>mrn</th>\n",
       "      <th>noteDate</th>\n",
       "      <th>note_text</th>\n",
       "    </tr>\n",
       "  </thead>\n",
       "  <tbody>\n",
       "    <tr>\n",
       "      <th>0</th>\n",
       "      <td>3</td>\n",
       "      <td>10743972</td>\n",
       "      <td>2022-01-10 12:10:00</td>\n",
       "      <td>INSTRUCTIONS FOR YOU:&lt;br /&gt;Your Care Provider ...</td>\n",
       "    </tr>\n",
       "    <tr>\n",
       "      <th>1</th>\n",
       "      <td>4</td>\n",
       "      <td>3546328</td>\n",
       "      <td>2022-01-10 12:39:00</td>\n",
       "      <td>&lt;br /&gt;Outpatient Procedure Nursing Follow up:...</td>\n",
       "    </tr>\n",
       "    <tr>\n",
       "      <th>2</th>\n",
       "      <td>5</td>\n",
       "      <td>10602162</td>\n",
       "      <td>2022-01-10 12:46:00</td>\n",
       "      <td>&lt;br /&gt;\\t\\tPage 1&lt;br /&gt; &lt;br /&gt;Discharge Reconc...</td>\n",
       "    </tr>\n",
       "    <tr>\n",
       "      <th>3</th>\n",
       "      <td>6</td>\n",
       "      <td>10315049</td>\n",
       "      <td>2022-01-10 11:04:00</td>\n",
       "      <td>Bronx Care Allergy and Asthma Center:&lt;br /&gt;Enc...</td>\n",
       "    </tr>\n",
       "    <tr>\n",
       "      <th>4</th>\n",
       "      <td>10</td>\n",
       "      <td>3336997</td>\n",
       "      <td>2022-01-10 10:21:00</td>\n",
       "      <td>&lt;br /&gt;Encounter Type:&lt;br /&gt;  Encounter Type: ...</td>\n",
       "    </tr>\n",
       "  </tbody>\n",
       "</table>\n",
       "</div>"
      ],
      "text/plain": [
       "   id       mrn             noteDate  \\\n",
       "0   3  10743972  2022-01-10 12:10:00   \n",
       "1   4   3546328  2022-01-10 12:39:00   \n",
       "2   5  10602162  2022-01-10 12:46:00   \n",
       "3   6  10315049  2022-01-10 11:04:00   \n",
       "4  10   3336997  2022-01-10 10:21:00   \n",
       "\n",
       "                                           note_text  \n",
       "0  INSTRUCTIONS FOR YOU:<br />Your Care Provider ...  \n",
       "1   <br />Outpatient Procedure Nursing Follow up:...  \n",
       "2   <br />\\t\\tPage 1<br /> <br />Discharge Reconc...  \n",
       "3  Bronx Care Allergy and Asthma Center:<br />Enc...  \n",
       "4   <br />Encounter Type:<br />  Encounter Type: ...  "
      ]
     },
     "execution_count": 8,
     "metadata": {},
     "output_type": "execute_result"
    }
   ],
   "source": [
    "df.head()"
   ]
  },
  {
   "cell_type": "code",
   "execution_count": null,
   "metadata": {},
   "outputs": [],
   "source": [
    "def seq_to_csv(seq):\n",
    "    ret_str = \"\"\n",
    "    for s in seq:\n",
    "        ret_str += s + ','\n",
    "    return ret_str[:-1]\n",
    "\n",
    "def search_chrcond(note):\n",
    "    if (note is None) or isinstance(note, float):\n",
    "        return ''\n",
    "    text = nlp(note)\n",
    "    matched_phrases = phrase_matcher(text)\n",
    "    chr_conds = set()\n",
    "    for match_id, start, end in matched_phrases:\n",
    "        span = text[start:end]\n",
    "        chr_conds.add(span.text)\n",
    "    if len(chr_conds):\n",
    "        return seq_to_csv(chr_conds)\n",
    "    else:\n",
    "        return ''"
   ]
  },
  {
   "cell_type": "code",
   "execution_count": null,
   "metadata": {},
   "outputs": [],
   "source": [
    "df['chronic_cond'] = df['note_text'].map(search_chrcond)\n",
    "df"
   ]
  },
  {
   "cell_type": "code",
   "execution_count": null,
   "metadata": {},
   "outputs": [],
   "source": [
    "df_chronic = df[df['chronic_cond'] != '']\n",
    "df_chronic"
   ]
  },
  {
   "cell_type": "code",
   "execution_count": null,
   "metadata": {},
   "outputs": [],
   "source": [
    "df_chronic.to_csv('./chronic_patient.csv', index=False)"
   ]
  },
  {
   "cell_type": "code",
   "execution_count": null,
   "metadata": {},
   "outputs": [],
   "source": [
    "df.iloc[0:5, 3]"
   ]
  },
  {
   "cell_type": "code",
   "execution_count": null,
   "metadata": {},
   "outputs": [],
   "source": []
  }
 ],
 "metadata": {
  "instance_type": "ml.t3.medium",
  "kernelspec": {
   "display_name": "Python 3 (Data Science)",
   "language": "python",
   "name": "python3__SAGEMAKER_INTERNAL__arn:aws:sagemaker:us-west-2:236514542706:image/datascience-1.0"
  },
  "language_info": {
   "codemirror_mode": {
    "name": "ipython",
    "version": 3
   },
   "file_extension": ".py",
   "mimetype": "text/x-python",
   "name": "python",
   "nbconvert_exporter": "python",
   "pygments_lexer": "ipython3",
   "version": "3.7.10"
  }
 },
 "nbformat": 4,
 "nbformat_minor": 4
}
