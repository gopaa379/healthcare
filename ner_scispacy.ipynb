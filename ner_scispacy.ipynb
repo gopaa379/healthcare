{
 "cells": [
  {
   "cell_type": "code",
   "execution_count": 4,
   "metadata": {},
   "outputs": [
    {
     "name": "stdout",
     "output_type": "stream",
     "text": [
      "/opt/conda/lib/python3.7/site-packages/secretstorage/dhcrypto.py:16: CryptographyDeprecationWarning: int_from_bytes is deprecated, use int.from_bytes instead\n",
      "  from cryptography.utils import int_from_bytes\n",
      "/opt/conda/lib/python3.7/site-packages/secretstorage/util.py:25: CryptographyDeprecationWarning: int_from_bytes is deprecated, use int.from_bytes instead\n",
      "  from cryptography.utils import int_from_bytes\n",
      "Collecting https://s3-us-west-2.amazonaws.com/ai2-s2-scispacy/releases/v0.4.0/en_ner_bc5cdr_md-0.4.0.tar.gz\n",
      "  Downloading https://s3-us-west-2.amazonaws.com/ai2-s2-scispacy/releases/v0.4.0/en_ner_bc5cdr_md-0.4.0.tar.gz (125.1 MB)\n",
      "     |████████████████████████████████| 125.1 MB 31 kB/s              \n",
      "\u001b[?25h  Preparing metadata (setup.py) ... \u001b[?25ldone\n",
      "\u001b[?25hRequirement already satisfied: spacy<3.1.0,>=3.0.1 in /opt/conda/lib/python3.7/site-packages (from en-ner-bc5cdr-md==0.4.0) (3.0.8)\n",
      "Requirement already satisfied: thinc<8.1.0,>=8.0.3 in /opt/conda/lib/python3.7/site-packages (from spacy<3.1.0,>=3.0.1->en-ner-bc5cdr-md==0.4.0) (8.0.13)\n",
      "Requirement already satisfied: srsly<3.0.0,>=2.4.1 in /opt/conda/lib/python3.7/site-packages (from spacy<3.1.0,>=3.0.1->en-ner-bc5cdr-md==0.4.0) (2.4.2)\n",
      "Requirement already satisfied: pydantic!=1.8,!=1.8.1,<1.9.0,>=1.7.4 in /opt/conda/lib/python3.7/site-packages (from spacy<3.1.0,>=3.0.1->en-ner-bc5cdr-md==0.4.0) (1.8.2)\n",
      "Requirement already satisfied: typer<0.4.0,>=0.3.0 in /opt/conda/lib/python3.7/site-packages (from spacy<3.1.0,>=3.0.1->en-ner-bc5cdr-md==0.4.0) (0.3.2)\n",
      "Requirement already satisfied: spacy-legacy<3.1.0,>=3.0.5 in /opt/conda/lib/python3.7/site-packages (from spacy<3.1.0,>=3.0.1->en-ner-bc5cdr-md==0.4.0) (3.0.8)\n",
      "Requirement already satisfied: cymem<2.1.0,>=2.0.2 in /opt/conda/lib/python3.7/site-packages (from spacy<3.1.0,>=3.0.1->en-ner-bc5cdr-md==0.4.0) (2.0.6)\n",
      "Requirement already satisfied: numpy>=1.15.0 in /opt/conda/lib/python3.7/site-packages (from spacy<3.1.0,>=3.0.1->en-ner-bc5cdr-md==0.4.0) (1.18.5)\n",
      "Requirement already satisfied: tqdm<5.0.0,>=4.38.0 in /opt/conda/lib/python3.7/site-packages (from spacy<3.1.0,>=3.0.1->en-ner-bc5cdr-md==0.4.0) (4.42.1)\n",
      "Requirement already satisfied: setuptools in /opt/conda/lib/python3.7/site-packages (from spacy<3.1.0,>=3.0.1->en-ner-bc5cdr-md==0.4.0) (59.5.0)\n",
      "Requirement already satisfied: requests<3.0.0,>=2.13.0 in /opt/conda/lib/python3.7/site-packages (from spacy<3.1.0,>=3.0.1->en-ner-bc5cdr-md==0.4.0) (2.26.0)\n",
      "Requirement already satisfied: typing-extensions<4.0.0.0,>=3.7.4 in /opt/conda/lib/python3.7/site-packages (from spacy<3.1.0,>=3.0.1->en-ner-bc5cdr-md==0.4.0) (3.10.0.2)\n",
      "Requirement already satisfied: catalogue<2.1.0,>=2.0.4 in /opt/conda/lib/python3.7/site-packages (from spacy<3.1.0,>=3.0.1->en-ner-bc5cdr-md==0.4.0) (2.0.6)\n",
      "Requirement already satisfied: preshed<3.1.0,>=3.0.2 in /opt/conda/lib/python3.7/site-packages (from spacy<3.1.0,>=3.0.1->en-ner-bc5cdr-md==0.4.0) (3.0.6)\n",
      "Requirement already satisfied: packaging>=20.0 in /opt/conda/lib/python3.7/site-packages (from spacy<3.1.0,>=3.0.1->en-ner-bc5cdr-md==0.4.0) (20.1)\n",
      "Requirement already satisfied: pathy>=0.3.5 in /opt/conda/lib/python3.7/site-packages (from spacy<3.1.0,>=3.0.1->en-ner-bc5cdr-md==0.4.0) (0.6.1)\n",
      "Requirement already satisfied: jinja2 in /opt/conda/lib/python3.7/site-packages (from spacy<3.1.0,>=3.0.1->en-ner-bc5cdr-md==0.4.0) (3.0.3)\n",
      "Requirement already satisfied: murmurhash<1.1.0,>=0.28.0 in /opt/conda/lib/python3.7/site-packages (from spacy<3.1.0,>=3.0.1->en-ner-bc5cdr-md==0.4.0) (1.0.6)\n",
      "Requirement already satisfied: blis<0.8.0,>=0.4.0 in /opt/conda/lib/python3.7/site-packages (from spacy<3.1.0,>=3.0.1->en-ner-bc5cdr-md==0.4.0) (0.7.5)\n",
      "Requirement already satisfied: wasabi<1.1.0,>=0.8.1 in /opt/conda/lib/python3.7/site-packages (from spacy<3.1.0,>=3.0.1->en-ner-bc5cdr-md==0.4.0) (0.9.0)\n",
      "Requirement already satisfied: zipp>=0.5 in /opt/conda/lib/python3.7/site-packages (from catalogue<2.1.0,>=2.0.4->spacy<3.1.0,>=3.0.1->en-ner-bc5cdr-md==0.4.0) (2.2.0)\n",
      "Requirement already satisfied: pyparsing>=2.0.2 in /opt/conda/lib/python3.7/site-packages (from packaging>=20.0->spacy<3.1.0,>=3.0.1->en-ner-bc5cdr-md==0.4.0) (2.4.6)\n",
      "Requirement already satisfied: six in /opt/conda/lib/python3.7/site-packages (from packaging>=20.0->spacy<3.1.0,>=3.0.1->en-ner-bc5cdr-md==0.4.0) (1.14.0)\n",
      "Requirement already satisfied: smart-open<6.0.0,>=5.0.0 in /opt/conda/lib/python3.7/site-packages (from pathy>=0.3.5->spacy<3.1.0,>=3.0.1->en-ner-bc5cdr-md==0.4.0) (5.2.1)\n",
      "Requirement already satisfied: certifi>=2017.4.17 in /opt/conda/lib/python3.7/site-packages (from requests<3.0.0,>=2.13.0->spacy<3.1.0,>=3.0.1->en-ner-bc5cdr-md==0.4.0) (2021.10.8)\n",
      "Requirement already satisfied: urllib3<1.27,>=1.21.1 in /opt/conda/lib/python3.7/site-packages (from requests<3.0.0,>=2.13.0->spacy<3.1.0,>=3.0.1->en-ner-bc5cdr-md==0.4.0) (1.26.7)\n",
      "Requirement already satisfied: idna<4,>=2.5 in /opt/conda/lib/python3.7/site-packages (from requests<3.0.0,>=2.13.0->spacy<3.1.0,>=3.0.1->en-ner-bc5cdr-md==0.4.0) (2.8)\n",
      "Requirement already satisfied: charset-normalizer~=2.0.0 in /opt/conda/lib/python3.7/site-packages (from requests<3.0.0,>=2.13.0->spacy<3.1.0,>=3.0.1->en-ner-bc5cdr-md==0.4.0) (2.0.4)\n",
      "Requirement already satisfied: click<7.2.0,>=7.1.1 in /opt/conda/lib/python3.7/site-packages (from typer<0.4.0,>=0.3.0->spacy<3.1.0,>=3.0.1->en-ner-bc5cdr-md==0.4.0) (7.1.2)\n",
      "Requirement already satisfied: MarkupSafe>=2.0 in /opt/conda/lib/python3.7/site-packages (from jinja2->spacy<3.1.0,>=3.0.1->en-ner-bc5cdr-md==0.4.0) (2.0.1)\n",
      "Building wheels for collected packages: en-ner-bc5cdr-md\n",
      "  Building wheel for en-ner-bc5cdr-md (setup.py) ... \u001b[?25ldone\n",
      "\u001b[?25h  Created wheel for en-ner-bc5cdr-md: filename=en_ner_bc5cdr_md-0.4.0-py3-none-any.whl size=125666883 sha256=f392cffd6cfb168351e726675c8098c59b5fdcf00b1e40499308d94b5243fb88\n",
      "  Stored in directory: /root/.cache/pip/wheels/6a/17/04/ed8f50ffdcb9b9e4ce601c0c3cf88361f2b3f54a10c0fa0803\n",
      "Successfully built en-ner-bc5cdr-md\n",
      "Installing collected packages: en-ner-bc5cdr-md\n",
      "Successfully installed en-ner-bc5cdr-md-0.4.0\n",
      "\u001b[33mWARNING: Running pip as the 'root' user can result in broken permissions and conflicting behaviour with the system package manager. It is recommended to use a virtual environment instead: https://pip.pypa.io/warnings/venv\u001b[0m\n",
      "\u001b[33mWARNING: You are using pip version 21.3.1; however, version 22.0.4 is available.\n",
      "You should consider upgrading via the '/opt/conda/bin/python -m pip install --upgrade pip' command.\u001b[0m\n"
     ]
    }
   ],
   "source": [
    "# !pip install -U spacy\n",
    "# !pip install scispacy\n",
    "# !pip install https://s3-us-west-2.amazonaws.com/ai2-s2-scispacy/releases/v0.4.0/en_core_sci_sm-0.4.0.tar.gz\n",
    "!pip install https://s3-us-west-2.amazonaws.com/ai2-s2-scispacy/releases/v0.4.0/en_ner_bc5cdr_md-0.4.0.tar.gz"
   ]
  },
  {
   "cell_type": "code",
   "execution_count": 13,
   "metadata": {},
   "outputs": [],
   "source": [
    "import scispacy\n",
    "import spacy\n",
    "import en_core_sci_sm   #The model we are going to use\n",
    "from spacy import displacy\n",
    "from scispacy.abbreviation import AbbreviationDetector\n",
    "from scispacy.umls_linking import UmlsEntityLinker"
   ]
  },
  {
   "cell_type": "code",
   "execution_count": 14,
   "metadata": {},
   "outputs": [],
   "source": [
    "# nlp = spacy.load(\"en_core_sci_sm\")   #Define the pre-trained model.\n",
    "nlp = spacy.load(\"en_ner_bc5cdr_md\")   #Define the model pre-trained with BC5CDR corpus"
   ]
  },
  {
   "cell_type": "code",
   "execution_count": 7,
   "metadata": {},
   "outputs": [],
   "source": [
    "text = '''<br />Encounter Type:<br />  Encounter Type: Face to Face<br /> <br /> <br />Chief Complaint:<br />Chief Complaint: COVID-19 Screening/Testing.<br /> <br /> <br />COVID-19 Evaluation:<br />   Symptoms patient DENIES: congestion or runny nose, cough, diarrhea, fatigue,<br />fever or chills, headache, muscle or body aches, nausea or vomiting, new loss<br />of taste or smell, shortness of breath and sore throat.<br /> <br /> <br />COVID-19 VACCINE:<br />Vaccine Documentation:<br />l COVID Vaccine History<br />    Vaccine Name\\t Performed Date\\t Manufacturer<br /> Covid - 19 Vaccine Moderna\\t 12-Nov-2021\\t Moderna<br /> Covid - 19 Vaccine Moderna\\t 17-Sep-2021\\t Moderna<br /> <br />l Prior Response: Completed series : 01-06-2022 : Consult<br />eNote-Gastroenterology<br />l COVID-19 Vaccine Interest T Eligibility Criteria: Completed series<br /> <br /> <br /> <br /> <br />Allergies:<br />     Allergies:<br />  \\tNo Known Allergies:<br /> <br /> <br />Home Medication Names:<br />  \\tomeprazole 40 mg oral delayed release capsule: 1 cap(s) orally once a day x<br />30 days<br />  \\tMaxalt 10 mg oral tablet: 1 tab(s) orally once a day x 30 days, As Needed<br />for migraine headache<br />  \\tCo Q-10 100 mg oral capsule: 1 cap(s) orally once a day x 30 days<br />  \\triboflavin 400 mg oral capsule: 1 cap(s) orally once a day x 30 days<br />  \\tdiclofenac sodium 75 mg oral delayed release tablet: 1 tab(s) orally once a<br />day x 30 days, As Needed<br />  \\tAlivio 600 mg oral tablet: 1 tab(s) orally every 6 hours<br />  \\tclindamycin 1% topical lotion: Apply topically to affected area once a day<br /> <br /> <br />Todays Assessment:<br />Active Issues:<br />1.\\tEncounter for screening for COVID-19 (Z11.52):<br />\\tOrders: SARS Coronavirus with CoV-2 RNA, Qual RT-PCR, Problems, HOME,<br />ESTABLISHED PAT VISIT; 5 MINS - 99211, lab handling - 99000, No Follow Up Visit<br />Required<br /> <br /> <br /> <br />Electronic Signatures:<br />OUADI, AMAR (MD)  (Signed 10-Jan-2022 16:36)<br />\\tAuthored: ENCOUNTER TYPE, CHIEF COMPLAINT, COVID19 Evaluation, COVID-19<br />VACCINE, ALLERGIES, MEDICATIONS, TODAYS ASSESSMENT<br /> <br /> <br />Last Updated: 10-Jan-2022 16:36 by OUADI, AMAR (MD)'''"
   ]
  },
  {
   "cell_type": "code",
   "execution_count": 8,
   "metadata": {},
   "outputs": [
    {
     "name": "stdout",
     "output_type": "stream",
     "text": [
      "<br />Encounter Type:<br />  Encounter Type: Face to Face<br /> <br /> <br />Chief Complaint:<br />Chief Complaint: COVID-19 Screening/Testing.<br /> <br /> <br />COVID-19 Evaluation:<br />   Symptoms patient DENIES: congestion or runny nose, cough, diarrhea, fatigue,<br />fever or chills, headache, muscle or body aches, nausea or vomiting, new loss<br />of taste or smell, shortness of breath and sore throat.<br /> <br /> <br />COVID-19 VACCINE:<br />Vaccine Documentation:<br />l COVID Vaccine History<br />    Vaccine Name\t Performed Date\t Manufacturer<br /> Covid - 19 Vaccine Moderna\t 12-Nov-2021\t Moderna<br /> Covid - 19 Vaccine Moderna\t 17-Sep-2021\t Moderna<br /> <br />l Prior Response: Completed series : 01-06-2022 : Consult<br />eNote-Gastroenterology<br />l COVID-19 Vaccine Interest T Eligibility Criteria: Completed series<br /> <br /> <br /> <br /> <br />Allergies:<br />     Allergies:<br />  \tNo Known Allergies:<br /> <br /> <br />Home Medication Names:<br />  \tomeprazole 40 mg oral delayed release capsule: 1 cap(s) orally once a day x<br />30 days<br />  \tMaxalt 10 mg oral tablet: 1 tab(s) orally once a day x 30 days, As Needed<br />for migraine headache<br />  \tCo Q-10 100 mg oral capsule: 1 cap(s) orally once a day x 30 days<br />  \triboflavin 400 mg oral capsule: 1 cap(s) orally once a day x 30 days<br />  \tdiclofenac sodium 75 mg oral delayed release tablet: 1 tab(s) orally once a<br />day x 30 days, As Needed<br />  \tAlivio 600 mg oral tablet: 1 tab(s) orally every 6 hours<br />  \tclindamycin 1% topical lotion: Apply topically to affected area once a day<br /> <br /> <br />Todays Assessment:<br />Active Issues:<br />1.\tEncounter for screening for COVID-19 (Z11.52):<br />\tOrders: SARS Coronavirus with CoV-2 RNA, Qual RT-PCR, Problems, HOME,<br />ESTABLISHED PAT VISIT; 5 MINS - 99211, lab handling - 99000, No Follow Up Visit<br />Required<br /> <br /> <br /> <br />Electronic Signatures:<br />OUADI, AMAR (MD)  (Signed 10-Jan-2022 16:36)<br />\tAuthored: ENCOUNTER TYPE, CHIEF COMPLAINT, COVID19 Evaluation, COVID-19<br />VACCINE, ALLERGIES, MEDICATIONS, TODAYS ASSESSMENT<br /> <br /> <br />Last Updated: 10-Jan-2022 16:36 by OUADI, AMAR (MD)\n"
     ]
    }
   ],
   "source": [
    "print(text)"
   ]
  },
  {
   "cell_type": "code",
   "execution_count": 15,
   "metadata": {},
   "outputs": [
    {
     "name": "stdout",
     "output_type": "stream",
     "text": [
      "TEXT START END ENTITY TYPE\n",
      "congestion or runny nose 217 241 DISEASE\n",
      "cough 243 248 DISEASE\n",
      "diarrhea 250 258 DISEASE\n",
      "chills 283 289 DISEASE\n",
      "headache 291 299 DISEASE\n",
      "aches 316 321 DISEASE\n",
      "nausea 323 329 DISEASE\n",
      "vomiting 333 341 DISEASE\n",
      "shortness of breath 376 395 DISEASE\n",
      "sore 400 404 DISEASE\n",
      "Vaccine 576 583 CHEMICAL\n",
      "Vaccine 631 638 CHEMICAL\n",
      "Names:<br 969 978 CHEMICAL\n",
      "omeprazole 984 994 CHEMICAL\n",
      "Maxalt 1081 1087 CHEMICAL\n",
      "migraine headache 1164 1181 DISEASE\n",
      "Q-10 1193 1197 CHEMICAL\n",
      "riboflavin 1264 1274 CHEMICAL\n",
      "diclofenac sodium 1341 1358 CHEMICAL\n",
      "clindamycin 1520 1531 CHEMICAL\n",
      "SARS 1722 1726 DISEASE\n",
      "COVID-19<br 2051 2062 CHEMICAL\n",
      "OUADI 2170 2175 CHEMICAL\n"
     ]
    }
   ],
   "source": [
    "# Find the Bio-Medical Entities in the given text:\n",
    "doc = nlp(text)\n",
    "print(\"TEXT\", \"START\", \"END\", \"ENTITY TYPE\")\n",
    "for ent in doc.ents:\n",
    "    print(ent.text, ent.start_char, ent.end_char, ent.label_)"
   ]
  },
  {
   "cell_type": "code",
   "execution_count": 10,
   "metadata": {},
   "outputs": [],
   "source": [
    "# Visualize dependency parses\n",
    "from spacy import displacy\n",
    "# displacy.render(next(doc.sents), style='dep', jupyter=True)"
   ]
  },
  {
   "cell_type": "code",
   "execution_count": 9,
   "metadata": {},
   "outputs": [],
   "source": [
    "# # Add the abbreviation pipe to the spacy pipeline.\n",
    "# abbreviation_pipe = AbbreviationDetector(nlp)\n",
    "# nlp.add_pipe(abbreviation_pipe)\n",
    "# #Print the Abbreviation and it's definition\n",
    "# print(\"Abbreviation\", \"\\t\", \"Definition\")\n",
    "# for abrv in doc._.abbreviations:\n",
    "#       print(f\"{abrv} \\t ({abrv.start}, {abrv.end}) {abrv._.long_form}\")\n"
   ]
  },
  {
   "cell_type": "code",
   "execution_count": 10,
   "metadata": {},
   "outputs": [],
   "source": [
    "# UmlsEntityLinker performs a string overlap search on named entities, comparing them with a knowledge base of 2.7 million concepts using an approximate nearest neighbors search.\n",
    "# from scispacy.umls_linking import UmlsEntityLinker\n",
    "\n",
    "# nlp = spacy.load(\"en_core_sci_sm\")\n",
    "# linker = UmlsEntityLinker(resolve_abbreviations=True)\n",
    "\n",
    "# nlp.add_pipe(linker)\n",
    "# # Each entity is linked to UMLS with a score\n",
    "# # (currently just char-3gram matching).\n",
    "# for umls_ent in entity._.umls_ents:\n",
    "#           print(linker.umls.cui_to_entity[umls_ent[0]])"
   ]
  },
  {
   "cell_type": "code",
   "execution_count": 18,
   "metadata": {},
   "outputs": [
    {
     "data": {
      "text/html": [
       "<span class=\"tex2jax_ignore\"><div class=\"entities\" style=\"line-height: 2.5; direction: ltr\">&lt;br /&gt;Encounter Type:&lt;br /&gt;  Encounter Type: Face to Face&lt;br /&gt; &lt;br /&gt; &lt;br /&gt;Chief Complaint:&lt;br /&gt;Chief Complaint: COVID-19 Screening/Testing.&lt;br /&gt; &lt;br /&gt; &lt;br /&gt;COVID-19 Evaluation:&lt;br /&gt;   Symptoms patient DENIES: \n",
       "<mark class=\"entity\" style=\"background: #ddd; padding: 0.45em 0.6em; margin: 0 0.25em; line-height: 1; border-radius: 0.35em;\">\n",
       "    congestion or runny nose\n",
       "    <span style=\"font-size: 0.8em; font-weight: bold; line-height: 1; border-radius: 0.35em; vertical-align: middle; margin-left: 0.5rem\">DISEASE</span>\n",
       "</mark>\n",
       ", \n",
       "<mark class=\"entity\" style=\"background: #ddd; padding: 0.45em 0.6em; margin: 0 0.25em; line-height: 1; border-radius: 0.35em;\">\n",
       "    cough\n",
       "    <span style=\"font-size: 0.8em; font-weight: bold; line-height: 1; border-radius: 0.35em; vertical-align: middle; margin-left: 0.5rem\">DISEASE</span>\n",
       "</mark>\n",
       ", \n",
       "<mark class=\"entity\" style=\"background: #ddd; padding: 0.45em 0.6em; margin: 0 0.25em; line-height: 1; border-radius: 0.35em;\">\n",
       "    diarrhea\n",
       "    <span style=\"font-size: 0.8em; font-weight: bold; line-height: 1; border-radius: 0.35em; vertical-align: middle; margin-left: 0.5rem\">DISEASE</span>\n",
       "</mark>\n",
       ", fatigue,&lt;br /&gt;fever or \n",
       "<mark class=\"entity\" style=\"background: #ddd; padding: 0.45em 0.6em; margin: 0 0.25em; line-height: 1; border-radius: 0.35em;\">\n",
       "    chills\n",
       "    <span style=\"font-size: 0.8em; font-weight: bold; line-height: 1; border-radius: 0.35em; vertical-align: middle; margin-left: 0.5rem\">DISEASE</span>\n",
       "</mark>\n",
       ", \n",
       "<mark class=\"entity\" style=\"background: #ddd; padding: 0.45em 0.6em; margin: 0 0.25em; line-height: 1; border-radius: 0.35em;\">\n",
       "    headache\n",
       "    <span style=\"font-size: 0.8em; font-weight: bold; line-height: 1; border-radius: 0.35em; vertical-align: middle; margin-left: 0.5rem\">DISEASE</span>\n",
       "</mark>\n",
       ", muscle or body \n",
       "<mark class=\"entity\" style=\"background: #ddd; padding: 0.45em 0.6em; margin: 0 0.25em; line-height: 1; border-radius: 0.35em;\">\n",
       "    aches\n",
       "    <span style=\"font-size: 0.8em; font-weight: bold; line-height: 1; border-radius: 0.35em; vertical-align: middle; margin-left: 0.5rem\">DISEASE</span>\n",
       "</mark>\n",
       ", \n",
       "<mark class=\"entity\" style=\"background: #ddd; padding: 0.45em 0.6em; margin: 0 0.25em; line-height: 1; border-radius: 0.35em;\">\n",
       "    nausea\n",
       "    <span style=\"font-size: 0.8em; font-weight: bold; line-height: 1; border-radius: 0.35em; vertical-align: middle; margin-left: 0.5rem\">DISEASE</span>\n",
       "</mark>\n",
       " or \n",
       "<mark class=\"entity\" style=\"background: #ddd; padding: 0.45em 0.6em; margin: 0 0.25em; line-height: 1; border-radius: 0.35em;\">\n",
       "    vomiting\n",
       "    <span style=\"font-size: 0.8em; font-weight: bold; line-height: 1; border-radius: 0.35em; vertical-align: middle; margin-left: 0.5rem\">DISEASE</span>\n",
       "</mark>\n",
       ", new loss&lt;br /&gt;of taste or smell, \n",
       "<mark class=\"entity\" style=\"background: #ddd; padding: 0.45em 0.6em; margin: 0 0.25em; line-height: 1; border-radius: 0.35em;\">\n",
       "    shortness of breath\n",
       "    <span style=\"font-size: 0.8em; font-weight: bold; line-height: 1; border-radius: 0.35em; vertical-align: middle; margin-left: 0.5rem\">DISEASE</span>\n",
       "</mark>\n",
       " and \n",
       "<mark class=\"entity\" style=\"background: #ddd; padding: 0.45em 0.6em; margin: 0 0.25em; line-height: 1; border-radius: 0.35em;\">\n",
       "    sore\n",
       "    <span style=\"font-size: 0.8em; font-weight: bold; line-height: 1; border-radius: 0.35em; vertical-align: middle; margin-left: 0.5rem\">DISEASE</span>\n",
       "</mark>\n",
       " throat.&lt;br /&gt; &lt;br /&gt; &lt;br /&gt;COVID-19 VACCINE:&lt;br /&gt;Vaccine Documentation:&lt;br /&gt;l COVID Vaccine History&lt;br /&gt;    Vaccine Name\t Performed Date\t Manufacturer&lt;br /&gt; Covid - 19 \n",
       "<mark class=\"entity\" style=\"background: #ddd; padding: 0.45em 0.6em; margin: 0 0.25em; line-height: 1; border-radius: 0.35em;\">\n",
       "    Vaccine\n",
       "    <span style=\"font-size: 0.8em; font-weight: bold; line-height: 1; border-radius: 0.35em; vertical-align: middle; margin-left: 0.5rem\">CHEMICAL</span>\n",
       "</mark>\n",
       " Moderna\t 12-Nov-2021\t Moderna&lt;br /&gt; Covid - 19 \n",
       "<mark class=\"entity\" style=\"background: #ddd; padding: 0.45em 0.6em; margin: 0 0.25em; line-height: 1; border-radius: 0.35em;\">\n",
       "    Vaccine\n",
       "    <span style=\"font-size: 0.8em; font-weight: bold; line-height: 1; border-radius: 0.35em; vertical-align: middle; margin-left: 0.5rem\">CHEMICAL</span>\n",
       "</mark>\n",
       " Moderna\t 17-Sep-2021\t Moderna&lt;br /&gt; &lt;br /&gt;l Prior Response: Completed series : 01-06-2022 : Consult&lt;br /&gt;eNote-Gastroenterology&lt;br /&gt;l COVID-19 Vaccine Interest T Eligibility Criteria: Completed series&lt;br /&gt; &lt;br /&gt; &lt;br /&gt; &lt;br /&gt; &lt;br /&gt;Allergies:&lt;br /&gt;     Allergies:&lt;br /&gt;  \tNo Known Allergies:&lt;br /&gt; &lt;br /&gt; &lt;br /&gt;Home Medication \n",
       "<mark class=\"entity\" style=\"background: #ddd; padding: 0.45em 0.6em; margin: 0 0.25em; line-height: 1; border-radius: 0.35em;\">\n",
       "    Names:&lt;br\n",
       "    <span style=\"font-size: 0.8em; font-weight: bold; line-height: 1; border-radius: 0.35em; vertical-align: middle; margin-left: 0.5rem\">CHEMICAL</span>\n",
       "</mark>\n",
       " /&gt;  \t\n",
       "<mark class=\"entity\" style=\"background: #ddd; padding: 0.45em 0.6em; margin: 0 0.25em; line-height: 1; border-radius: 0.35em;\">\n",
       "    omeprazole\n",
       "    <span style=\"font-size: 0.8em; font-weight: bold; line-height: 1; border-radius: 0.35em; vertical-align: middle; margin-left: 0.5rem\">CHEMICAL</span>\n",
       "</mark>\n",
       " 40 mg oral delayed release capsule: 1 cap(s) orally once a day x&lt;br /&gt;30 days&lt;br /&gt;  \t\n",
       "<mark class=\"entity\" style=\"background: #ddd; padding: 0.45em 0.6em; margin: 0 0.25em; line-height: 1; border-radius: 0.35em;\">\n",
       "    Maxalt\n",
       "    <span style=\"font-size: 0.8em; font-weight: bold; line-height: 1; border-radius: 0.35em; vertical-align: middle; margin-left: 0.5rem\">CHEMICAL</span>\n",
       "</mark>\n",
       " 10 mg oral tablet: 1 tab(s) orally once a day x 30 days, As Needed&lt;br /&gt;for \n",
       "<mark class=\"entity\" style=\"background: #ddd; padding: 0.45em 0.6em; margin: 0 0.25em; line-height: 1; border-radius: 0.35em;\">\n",
       "    migraine headache\n",
       "    <span style=\"font-size: 0.8em; font-weight: bold; line-height: 1; border-radius: 0.35em; vertical-align: middle; margin-left: 0.5rem\">DISEASE</span>\n",
       "</mark>\n",
       "&lt;br /&gt;  \tCo \n",
       "<mark class=\"entity\" style=\"background: #ddd; padding: 0.45em 0.6em; margin: 0 0.25em; line-height: 1; border-radius: 0.35em;\">\n",
       "    Q-10\n",
       "    <span style=\"font-size: 0.8em; font-weight: bold; line-height: 1; border-radius: 0.35em; vertical-align: middle; margin-left: 0.5rem\">CHEMICAL</span>\n",
       "</mark>\n",
       " 100 mg oral capsule: 1 cap(s) orally once a day x 30 days&lt;br /&gt;  \t\n",
       "<mark class=\"entity\" style=\"background: #ddd; padding: 0.45em 0.6em; margin: 0 0.25em; line-height: 1; border-radius: 0.35em;\">\n",
       "    riboflavin\n",
       "    <span style=\"font-size: 0.8em; font-weight: bold; line-height: 1; border-radius: 0.35em; vertical-align: middle; margin-left: 0.5rem\">CHEMICAL</span>\n",
       "</mark>\n",
       " 400 mg oral capsule: 1 cap(s) orally once a day x 30 days&lt;br /&gt;  \t\n",
       "<mark class=\"entity\" style=\"background: #ddd; padding: 0.45em 0.6em; margin: 0 0.25em; line-height: 1; border-radius: 0.35em;\">\n",
       "    diclofenac sodium\n",
       "    <span style=\"font-size: 0.8em; font-weight: bold; line-height: 1; border-radius: 0.35em; vertical-align: middle; margin-left: 0.5rem\">CHEMICAL</span>\n",
       "</mark>\n",
       " 75 mg oral delayed release tablet: 1 tab(s) orally once a&lt;br /&gt;day x 30 days, As Needed&lt;br /&gt;  \tAlivio 600 mg oral tablet: 1 tab(s) orally every 6 hours&lt;br /&gt;  \t\n",
       "<mark class=\"entity\" style=\"background: #ddd; padding: 0.45em 0.6em; margin: 0 0.25em; line-height: 1; border-radius: 0.35em;\">\n",
       "    clindamycin\n",
       "    <span style=\"font-size: 0.8em; font-weight: bold; line-height: 1; border-radius: 0.35em; vertical-align: middle; margin-left: 0.5rem\">CHEMICAL</span>\n",
       "</mark>\n",
       " 1% topical lotion: Apply topically to affected area once a day&lt;br /&gt; &lt;br /&gt; &lt;br /&gt;Todays Assessment:&lt;br /&gt;Active Issues:&lt;br /&gt;1.\tEncounter for screening for COVID-19 (Z11.52):&lt;br /&gt;\tOrders: \n",
       "<mark class=\"entity\" style=\"background: #ddd; padding: 0.45em 0.6em; margin: 0 0.25em; line-height: 1; border-radius: 0.35em;\">\n",
       "    SARS\n",
       "    <span style=\"font-size: 0.8em; font-weight: bold; line-height: 1; border-radius: 0.35em; vertical-align: middle; margin-left: 0.5rem\">DISEASE</span>\n",
       "</mark>\n",
       " Coronavirus with CoV-2 RNA, Qual RT-PCR, Problems, HOME,&lt;br /&gt;ESTABLISHED PAT VISIT; 5 MINS - 99211, lab handling - 99000, No Follow Up Visit&lt;br /&gt;Required&lt;br /&gt; &lt;br /&gt; &lt;br /&gt; &lt;br /&gt;Electronic Signatures:&lt;br /&gt;OUADI, AMAR (MD)  (Signed 10-Jan-2022 16:36)&lt;br /&gt;\tAuthored: ENCOUNTER TYPE, CHIEF COMPLAINT, COVID19 Evaluation, \n",
       "<mark class=\"entity\" style=\"background: #ddd; padding: 0.45em 0.6em; margin: 0 0.25em; line-height: 1; border-radius: 0.35em;\">\n",
       "    COVID-19&lt;br\n",
       "    <span style=\"font-size: 0.8em; font-weight: bold; line-height: 1; border-radius: 0.35em; vertical-align: middle; margin-left: 0.5rem\">CHEMICAL</span>\n",
       "</mark>\n",
       " /&gt;VACCINE, ALLERGIES, MEDICATIONS, TODAYS ASSESSMENT&lt;br /&gt; &lt;br /&gt; &lt;br /&gt;Last Updated: 10-Jan-2022 16:36 by \n",
       "<mark class=\"entity\" style=\"background: #ddd; padding: 0.45em 0.6em; margin: 0 0.25em; line-height: 1; border-radius: 0.35em;\">\n",
       "    OUADI\n",
       "    <span style=\"font-size: 0.8em; font-weight: bold; line-height: 1; border-radius: 0.35em; vertical-align: middle; margin-left: 0.5rem\">CHEMICAL</span>\n",
       "</mark>\n",
       ", AMAR (MD)</div></span>"
      ],
      "text/plain": [
       "<IPython.core.display.HTML object>"
      ]
     },
     "metadata": {},
     "output_type": "display_data"
    }
   ],
   "source": [
    "displacy.render(doc, style=\"ent\")"
   ]
  }
 ],
 "metadata": {
  "instance_type": "ml.t3.medium",
  "kernelspec": {
   "display_name": "Python 3 (Data Science)",
   "language": "python",
   "name": "python3__SAGEMAKER_INTERNAL__arn:aws:sagemaker:us-west-2:236514542706:image/datascience-1.0"
  },
  "language_info": {
   "codemirror_mode": {
    "name": "ipython",
    "version": 3
   },
   "file_extension": ".py",
   "mimetype": "text/x-python",
   "name": "python",
   "nbconvert_exporter": "python",
   "pygments_lexer": "ipython3",
   "version": "3.7.10"
  }
 },
 "nbformat": 4,
 "nbformat_minor": 4
}
