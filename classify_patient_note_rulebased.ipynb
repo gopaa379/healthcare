{
 "cells": [
  {
   "cell_type": "markdown",
   "metadata": {},
   "source": [
    "This notebook parses patient notes and categorises it as 'Clinical' or 'Non-clinical'."
   ]
  },
  {
   "cell_type": "code",
   "execution_count": null,
   "metadata": {},
   "outputs": [],
   "source": [
    "import pandas as pd\n",
    "import csv\n",
    "\n",
    "df = pd.read_csv('./patient_note_log.csv',  parse_dates=True, engine='python', error_bad_lines=False)\n",
    "\n",
    "df.shape"
   ]
  },
  {
   "cell_type": "code",
   "execution_count": 2,
   "metadata": {},
   "outputs": [],
   "source": [
    "# !aws s3 cp s3://patient-data-v1/patient_note_log.csv ./patient_note_log.csv\n",
    "# !aws s3 cp s3://patient-data-v1/Chronic_condns.csv ./chronic_condns.csv"
   ]
  },
  {
   "cell_type": "code",
   "execution_count": null,
   "metadata": {},
   "outputs": [],
   "source": [
    "!pip install -U spacy"
   ]
  },
  {
   "cell_type": "code",
   "execution_count": null,
   "metadata": {},
   "outputs": [],
   "source": [
    "!python -m spacy download en_core_web_sm"
   ]
  },
  {
   "cell_type": "code",
   "execution_count": 5,
   "metadata": {},
   "outputs": [],
   "source": [
    "import spacy\n",
    "from spacy.matcher import PhraseMatcher\n",
    "import pandas as pd\n",
    "nlp = spacy.load('en_core_web_sm')\n",
    "\n",
    "# Create Phrase Matcher Object\n",
    "phrase_matcher = PhraseMatcher(nlp.vocab)\n"
   ]
  },
  {
   "cell_type": "markdown",
   "metadata": {},
   "source": [
    "Assumption: Clinical note contains keywords such as 'MD', 'ICD'\n",
    "If these words are found, the note is labelled as 'Clinical', 'Non-clinical' otherwise"
   ]
  },
  {
   "cell_type": "code",
   "execution_count": 6,
   "metadata": {},
   "outputs": [],
   "source": [
    "clinical_patterns = [nlp(text) for text in ('MD', 'ICD')]\n",
    "phrase_matcher.add('Clinical', None, *clinical_patterns)\n",
    "\n",
    "def search_clinical_terms(note):\n",
    "    is_clinical = False\n",
    "    if (note is None) or isinstance(note, float):\n",
    "        return None\n",
    "    text = nlp(note)\n",
    "    matched_phrases = phrase_matcher(text)\n",
    "    if len(matched_phrases):\n",
    "        is_clinical = True\n",
    "\n",
    "    return is_clinical"
   ]
  },
  {
   "cell_type": "code",
   "execution_count": 7,
   "metadata": {},
   "outputs": [
    {
     "data": {
      "text/html": [
       "<div>\n",
       "<style scoped>\n",
       "    .dataframe tbody tr th:only-of-type {\n",
       "        vertical-align: middle;\n",
       "    }\n",
       "\n",
       "    .dataframe tbody tr th {\n",
       "        vertical-align: top;\n",
       "    }\n",
       "\n",
       "    .dataframe thead th {\n",
       "        text-align: right;\n",
       "    }\n",
       "</style>\n",
       "<table border=\"1\" class=\"dataframe\">\n",
       "  <thead>\n",
       "    <tr style=\"text-align: right;\">\n",
       "      <th></th>\n",
       "      <th>id</th>\n",
       "      <th>mrn</th>\n",
       "      <th>noteDate</th>\n",
       "      <th>note_text</th>\n",
       "      <th>is_clinical_note</th>\n",
       "    </tr>\n",
       "  </thead>\n",
       "  <tbody>\n",
       "    <tr>\n",
       "      <th>0</th>\n",
       "      <td>3</td>\n",
       "      <td>10743972</td>\n",
       "      <td>2022-01-10 12:10:00</td>\n",
       "      <td>INSTRUCTIONS FOR YOU:&lt;br /&gt;Your Care Provider ...</td>\n",
       "      <td>False</td>\n",
       "    </tr>\n",
       "    <tr>\n",
       "      <th>1</th>\n",
       "      <td>4</td>\n",
       "      <td>3546328</td>\n",
       "      <td>2022-01-10 12:39:00</td>\n",
       "      <td>&lt;br /&gt;Outpatient Procedure Nursing Follow up:...</td>\n",
       "      <td>False</td>\n",
       "    </tr>\n",
       "    <tr>\n",
       "      <th>2</th>\n",
       "      <td>5</td>\n",
       "      <td>10602162</td>\n",
       "      <td>2022-01-10 12:46:00</td>\n",
       "      <td>&lt;br /&gt;\\t\\tPage 1&lt;br /&gt; &lt;br /&gt;Discharge Reconc...</td>\n",
       "      <td>False</td>\n",
       "    </tr>\n",
       "    <tr>\n",
       "      <th>3</th>\n",
       "      <td>6</td>\n",
       "      <td>10315049</td>\n",
       "      <td>2022-01-10 11:04:00</td>\n",
       "      <td>Bronx Care Allergy and Asthma Center:&lt;br /&gt;Enc...</td>\n",
       "      <td>True</td>\n",
       "    </tr>\n",
       "    <tr>\n",
       "      <th>4</th>\n",
       "      <td>10</td>\n",
       "      <td>3336997</td>\n",
       "      <td>2022-01-10 10:21:00</td>\n",
       "      <td>&lt;br /&gt;Encounter Type:&lt;br /&gt;  Encounter Type: ...</td>\n",
       "      <td>True</td>\n",
       "    </tr>\n",
       "    <tr>\n",
       "      <th>...</th>\n",
       "      <td>...</td>\n",
       "      <td>...</td>\n",
       "      <td>...</td>\n",
       "      <td>...</td>\n",
       "      <td>...</td>\n",
       "    </tr>\n",
       "    <tr>\n",
       "      <th>3925</th>\n",
       "      <td>6737</td>\n",
       "      <td>10728252</td>\n",
       "      <td>2022-01-26 21:35:00</td>\n",
       "      <td>HPI:&lt;br /&gt;Arrival Information:&lt;br /&gt;  MD First...</td>\n",
       "      <td>True</td>\n",
       "    </tr>\n",
       "    <tr>\n",
       "      <th>3926</th>\n",
       "      <td>6738</td>\n",
       "      <td>10320959</td>\n",
       "      <td>2022-01-26 21:55:00</td>\n",
       "      <td>MEDICAID TRANSPORTATION JUSTIFICATION REQUEST ...</td>\n",
       "      <td>True</td>\n",
       "    </tr>\n",
       "    <tr>\n",
       "      <th>3927</th>\n",
       "      <td>6739</td>\n",
       "      <td>10320959</td>\n",
       "      <td>2022-01-26 20:15:00</td>\n",
       "      <td>HPI:&lt;br /&gt;Arrival Information:&lt;br /&gt;  Date/Tim...</td>\n",
       "      <td>True</td>\n",
       "    </tr>\n",
       "    <tr>\n",
       "      <th>3928</th>\n",
       "      <td>6740</td>\n",
       "      <td>10320959</td>\n",
       "      <td>2022-01-26 20:15:00</td>\n",
       "      <td>HPI:&lt;br /&gt;Arrival Information:&lt;br /&gt;  Date/Tim...</td>\n",
       "      <td>True</td>\n",
       "    </tr>\n",
       "    <tr>\n",
       "      <th>3929</th>\n",
       "      <td>6742</td>\n",
       "      <td>10384790</td>\n",
       "      <td>2022-01-26 22:34:00</td>\n",
       "      <td>&lt;br /&gt;Encounter Type:&lt;br /&gt;  Encounter Type: ...</td>\n",
       "      <td>True</td>\n",
       "    </tr>\n",
       "  </tbody>\n",
       "</table>\n",
       "<p>3930 rows × 5 columns</p>\n",
       "</div>"
      ],
      "text/plain": [
       "        id       mrn             noteDate  \\\n",
       "0        3  10743972  2022-01-10 12:10:00   \n",
       "1        4   3546328  2022-01-10 12:39:00   \n",
       "2        5  10602162  2022-01-10 12:46:00   \n",
       "3        6  10315049  2022-01-10 11:04:00   \n",
       "4       10   3336997  2022-01-10 10:21:00   \n",
       "...    ...       ...                  ...   \n",
       "3925  6737  10728252  2022-01-26 21:35:00   \n",
       "3926  6738  10320959  2022-01-26 21:55:00   \n",
       "3927  6739  10320959  2022-01-26 20:15:00   \n",
       "3928  6740  10320959  2022-01-26 20:15:00   \n",
       "3929  6742  10384790  2022-01-26 22:34:00   \n",
       "\n",
       "                                              note_text is_clinical_note  \n",
       "0     INSTRUCTIONS FOR YOU:<br />Your Care Provider ...            False  \n",
       "1      <br />Outpatient Procedure Nursing Follow up:...            False  \n",
       "2      <br />\\t\\tPage 1<br /> <br />Discharge Reconc...            False  \n",
       "3     Bronx Care Allergy and Asthma Center:<br />Enc...             True  \n",
       "4      <br />Encounter Type:<br />  Encounter Type: ...             True  \n",
       "...                                                 ...              ...  \n",
       "3925  HPI:<br />Arrival Information:<br />  MD First...             True  \n",
       "3926  MEDICAID TRANSPORTATION JUSTIFICATION REQUEST ...             True  \n",
       "3927  HPI:<br />Arrival Information:<br />  Date/Tim...             True  \n",
       "3928  HPI:<br />Arrival Information:<br />  Date/Tim...             True  \n",
       "3929   <br />Encounter Type:<br />  Encounter Type: ...             True  \n",
       "\n",
       "[3930 rows x 5 columns]"
      ]
     },
     "execution_count": 7,
     "metadata": {},
     "output_type": "execute_result"
    }
   ],
   "source": [
    "df['is_clinical_note'] = df['note_text'].map(search_clinical_terms)\n",
    "df"
   ]
  },
  {
   "cell_type": "code",
   "execution_count": 8,
   "metadata": {},
   "outputs": [
    {
     "data": {
      "text/plain": [
       "True     2191\n",
       "False    1611\n",
       "Name: is_clinical_note, dtype: int64"
      ]
     },
     "execution_count": 8,
     "metadata": {},
     "output_type": "execute_result"
    }
   ],
   "source": [
    "df['is_clinical_note'].value_counts()"
   ]
  },
  {
   "cell_type": "code",
   "execution_count": null,
   "metadata": {},
   "outputs": [],
   "source": [
    "df.iloc[0,3]"
   ]
  }
 ],
 "metadata": {
  "instance_type": "ml.t3.medium",
  "kernelspec": {
   "display_name": "Python 3 (Data Science)",
   "language": "python",
   "name": "python3__SAGEMAKER_INTERNAL__arn:aws:sagemaker:us-west-2:236514542706:image/datascience-1.0"
  },
  "language_info": {
   "codemirror_mode": {
    "name": "ipython",
    "version": 3
   },
   "file_extension": ".py",
   "mimetype": "text/x-python",
   "name": "python",
   "nbconvert_exporter": "python",
   "pygments_lexer": "ipython3",
   "version": "3.7.10"
  }
 },
 "nbformat": 4,
 "nbformat_minor": 4
}
